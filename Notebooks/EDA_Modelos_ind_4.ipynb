{
 "cells": [
  {
   "cell_type": "markdown",
   "id": "821be879",
   "metadata": {},
   "source": [
    "## Librerías"
   ]
  },
  {
   "cell_type": "code",
   "execution_count": 1,
   "id": "a0b86192",
   "metadata": {},
   "outputs": [],
   "source": [
    "import pandas as pd\n",
    "import numpy as np\n",
    "import matplotlib.pyplot as plt\n",
    "from sklearn.cluster import KMeans, AgglomerativeClustering, DBSCAN\n",
    "from sklearn.mixture import GaussianMixture\n",
    "from scipy.cluster.hierarchy import dendrogram, linkage, fcluster\n",
    "import warnings"
   ]
  },
  {
   "cell_type": "code",
   "execution_count": 2,
   "id": "7502ea9a",
   "metadata": {},
   "outputs": [],
   "source": [
    "warnings.filterwarnings(\"ignore\")\n",
    "seed = 2024"
   ]
  },
  {
   "cell_type": "markdown",
   "id": "aa4e5392",
   "metadata": {},
   "source": [
    "## Carga de datos"
   ]
  },
  {
   "cell_type": "code",
   "execution_count": 3,
   "id": "807acee3",
   "metadata": {},
   "outputs": [
    {
     "data": {
      "text/html": [
       "<div>\n",
       "<style scoped>\n",
       "    .dataframe tbody tr th:only-of-type {\n",
       "        vertical-align: middle;\n",
       "    }\n",
       "\n",
       "    .dataframe tbody tr th {\n",
       "        vertical-align: top;\n",
       "    }\n",
       "\n",
       "    .dataframe thead th {\n",
       "        text-align: right;\n",
       "    }\n",
       "</style>\n",
       "<table border=\"1\" class=\"dataframe\">\n",
       "  <thead>\n",
       "    <tr style=\"text-align: right;\">\n",
       "      <th></th>\n",
       "      <th>A_date</th>\n",
       "      <th>A_id</th>\n",
       "      <th>S_ACC_day_total_IN_mg</th>\n",
       "      <th>S_ACC_day_total_LIG_mg</th>\n",
       "      <th>S_ACC_day_total_MOD_mg</th>\n",
       "      <th>S_ACC_day_total_VIG_mg</th>\n",
       "      <th>S_sleeponset_ts</th>\n",
       "      <th>S_wakeup_ts</th>\n",
       "    </tr>\n",
       "  </thead>\n",
       "  <tbody>\n",
       "    <tr>\n",
       "      <th>0</th>\n",
       "      <td>2018-01-31</td>\n",
       "      <td>PRFE</td>\n",
       "      <td>NaN</td>\n",
       "      <td>NaN</td>\n",
       "      <td>NaN</td>\n",
       "      <td>NaN</td>\n",
       "      <td>NaN</td>\n",
       "      <td>NaN</td>\n",
       "    </tr>\n",
       "    <tr>\n",
       "      <th>1</th>\n",
       "      <td>2018-02-01</td>\n",
       "      <td>PRFE</td>\n",
       "      <td>NaN</td>\n",
       "      <td>NaN</td>\n",
       "      <td>NaN</td>\n",
       "      <td>NaN</td>\n",
       "      <td>NaN</td>\n",
       "      <td>NaN</td>\n",
       "    </tr>\n",
       "    <tr>\n",
       "      <th>2</th>\n",
       "      <td>2018-02-02</td>\n",
       "      <td>PRFE</td>\n",
       "      <td>10.300721</td>\n",
       "      <td>55.790294</td>\n",
       "      <td>170.053180</td>\n",
       "      <td>543.040000</td>\n",
       "      <td>23:49:50</td>\n",
       "      <td>09:50:15</td>\n",
       "    </tr>\n",
       "    <tr>\n",
       "      <th>3</th>\n",
       "      <td>2018-02-03</td>\n",
       "      <td>PRFE</td>\n",
       "      <td>10.725991</td>\n",
       "      <td>55.719336</td>\n",
       "      <td>154.367094</td>\n",
       "      <td>484.111765</td>\n",
       "      <td>02:22:00</td>\n",
       "      <td>13:59:45</td>\n",
       "    </tr>\n",
       "    <tr>\n",
       "      <th>4</th>\n",
       "      <td>2018-02-04</td>\n",
       "      <td>PRFE</td>\n",
       "      <td>3.883990</td>\n",
       "      <td>56.337911</td>\n",
       "      <td>149.440458</td>\n",
       "      <td>NaN</td>\n",
       "      <td>05:41:45</td>\n",
       "      <td>18:00:00</td>\n",
       "    </tr>\n",
       "  </tbody>\n",
       "</table>\n",
       "</div>"
      ],
      "text/plain": [
       "       A_date  A_id  S_ACC_day_total_IN_mg  S_ACC_day_total_LIG_mg  \\\n",
       "0  2018-01-31  PRFE                    NaN                     NaN   \n",
       "1  2018-02-01  PRFE                    NaN                     NaN   \n",
       "2  2018-02-02  PRFE              10.300721               55.790294   \n",
       "3  2018-02-03  PRFE              10.725991               55.719336   \n",
       "4  2018-02-04  PRFE               3.883990               56.337911   \n",
       "\n",
       "   S_ACC_day_total_MOD_mg  S_ACC_day_total_VIG_mg S_sleeponset_ts S_wakeup_ts  \n",
       "0                     NaN                     NaN             NaN         NaN  \n",
       "1                     NaN                     NaN             NaN         NaN  \n",
       "2              170.053180              543.040000        23:49:50    09:50:15  \n",
       "3              154.367094              484.111765        02:22:00    13:59:45  \n",
       "4              149.440458                     NaN        05:41:45    18:00:00  "
      ]
     },
     "execution_count": 3,
     "metadata": {},
     "output_type": "execute_result"
    }
   ],
   "source": [
    "ind_4 = pd.read_csv('data_paciente.csv')\n",
    "ind_4 = ind_4.drop(columns='Unnamed: 0')\n",
    "ind_4.head()"
   ]
  },
  {
   "cell_type": "code",
   "execution_count": 4,
   "id": "3c321f4d",
   "metadata": {},
   "outputs": [
    {
     "data": {
      "text/plain": [
       "(49795, 8)"
      ]
     },
     "execution_count": 4,
     "metadata": {},
     "output_type": "execute_result"
    }
   ],
   "source": [
    "ind_4.shape"
   ]
  },
  {
   "cell_type": "markdown",
   "id": "fca6598c",
   "metadata": {},
   "source": [
    "## Preprocesamiento"
   ]
  },
  {
   "cell_type": "code",
   "execution_count": 5,
   "id": "32096903",
   "metadata": {},
   "outputs": [
    {
     "data": {
      "text/plain": [
       "A_date                        0\n",
       "A_id                          0\n",
       "S_ACC_day_total_IN_mg     48804\n",
       "S_ACC_day_total_LIG_mg    48804\n",
       "S_ACC_day_total_MOD_mg    48807\n",
       "S_ACC_day_total_VIG_mg    49010\n",
       "S_sleeponset_ts           48805\n",
       "S_wakeup_ts               48805\n",
       "dtype: int64"
      ]
     },
     "execution_count": 5,
     "metadata": {},
     "output_type": "execute_result"
    }
   ],
   "source": [
    "ind_4.isnull().sum()"
   ]
  },
  {
   "cell_type": "code",
   "execution_count": 6,
   "id": "b54f0a3a",
   "metadata": {},
   "outputs": [],
   "source": [
    "df_filtered = ind_4.dropna(subset=['S_ACC_day_total_IN_mg'])"
   ]
  },
  {
   "cell_type": "code",
   "execution_count": 7,
   "id": "2ff4bed9",
   "metadata": {},
   "outputs": [
    {
     "data": {
      "text/plain": [
       "A_date                      0\n",
       "A_id                        0\n",
       "S_ACC_day_total_IN_mg       0\n",
       "S_ACC_day_total_LIG_mg      0\n",
       "S_ACC_day_total_MOD_mg      3\n",
       "S_ACC_day_total_VIG_mg    206\n",
       "S_sleeponset_ts             1\n",
       "S_wakeup_ts                 1\n",
       "dtype: int64"
      ]
     },
     "execution_count": 7,
     "metadata": {},
     "output_type": "execute_result"
    }
   ],
   "source": [
    "df_filtered.isnull().sum()"
   ]
  },
  {
   "cell_type": "code",
   "execution_count": 8,
   "id": "2c442976",
   "metadata": {},
   "outputs": [
    {
     "data": {
      "text/plain": [
       "(991, 8)"
      ]
     },
     "execution_count": 8,
     "metadata": {},
     "output_type": "execute_result"
    }
   ],
   "source": [
    "df_filtered.shape"
   ]
  },
  {
   "cell_type": "code",
   "execution_count": 9,
   "id": "27c11784",
   "metadata": {},
   "outputs": [],
   "source": [
    "prfe = df_filtered[df_filtered['A_id']=='PRFE']"
   ]
  },
  {
   "cell_type": "code",
   "execution_count": 10,
   "id": "1dd3a794",
   "metadata": {},
   "outputs": [
    {
     "data": {
      "text/plain": [
       "A_date                    0\n",
       "A_id                      0\n",
       "S_ACC_day_total_IN_mg     0\n",
       "S_ACC_day_total_LIG_mg    0\n",
       "S_ACC_day_total_MOD_mg    0\n",
       "S_ACC_day_total_VIG_mg    2\n",
       "S_sleeponset_ts           0\n",
       "S_wakeup_ts               0\n",
       "dtype: int64"
      ]
     },
     "execution_count": 10,
     "metadata": {},
     "output_type": "execute_result"
    }
   ],
   "source": [
    "prfe.isnull().sum()"
   ]
  },
  {
   "cell_type": "code",
   "execution_count": 11,
   "id": "7cec66a0",
   "metadata": {},
   "outputs": [
    {
     "data": {
      "text/plain": [
       "A_date                     object\n",
       "A_id                       object\n",
       "S_ACC_day_total_IN_mg     float64\n",
       "S_ACC_day_total_LIG_mg    float64\n",
       "S_ACC_day_total_MOD_mg    float64\n",
       "S_ACC_day_total_VIG_mg    float64\n",
       "S_sleeponset_ts            object\n",
       "S_wakeup_ts                object\n",
       "dtype: object"
      ]
     },
     "execution_count": 11,
     "metadata": {},
     "output_type": "execute_result"
    }
   ],
   "source": [
    "prfe.dtypes"
   ]
  },
  {
   "cell_type": "code",
   "execution_count": 12,
   "id": "1e460322",
   "metadata": {},
   "outputs": [
    {
     "data": {
      "text/html": [
       "<div>\n",
       "<style scoped>\n",
       "    .dataframe tbody tr th:only-of-type {\n",
       "        vertical-align: middle;\n",
       "    }\n",
       "\n",
       "    .dataframe tbody tr th {\n",
       "        vertical-align: top;\n",
       "    }\n",
       "\n",
       "    .dataframe thead th {\n",
       "        text-align: right;\n",
       "    }\n",
       "</style>\n",
       "<table border=\"1\" class=\"dataframe\">\n",
       "  <thead>\n",
       "    <tr style=\"text-align: right;\">\n",
       "      <th></th>\n",
       "      <th>S_ACC_day_total_IN_mg</th>\n",
       "      <th>S_ACC_day_total_LIG_mg</th>\n",
       "      <th>S_ACC_day_total_MOD_mg</th>\n",
       "      <th>S_ACC_day_total_VIG_mg</th>\n",
       "    </tr>\n",
       "  </thead>\n",
       "  <tbody>\n",
       "    <tr>\n",
       "      <th>count</th>\n",
       "      <td>85.000000</td>\n",
       "      <td>85.000000</td>\n",
       "      <td>85.000000</td>\n",
       "      <td>83.000000</td>\n",
       "    </tr>\n",
       "    <tr>\n",
       "      <th>mean</th>\n",
       "      <td>11.340385</td>\n",
       "      <td>56.643764</td>\n",
       "      <td>151.943842</td>\n",
       "      <td>545.822797</td>\n",
       "    </tr>\n",
       "    <tr>\n",
       "      <th>std</th>\n",
       "      <td>2.508658</td>\n",
       "      <td>2.103355</td>\n",
       "      <td>8.156844</td>\n",
       "      <td>77.282629</td>\n",
       "    </tr>\n",
       "    <tr>\n",
       "      <th>min</th>\n",
       "      <td>3.883990</td>\n",
       "      <td>48.403983</td>\n",
       "      <td>130.712121</td>\n",
       "      <td>440.700000</td>\n",
       "    </tr>\n",
       "    <tr>\n",
       "      <th>25%</th>\n",
       "      <td>10.164777</td>\n",
       "      <td>55.571720</td>\n",
       "      <td>146.369345</td>\n",
       "      <td>494.921429</td>\n",
       "    </tr>\n",
       "    <tr>\n",
       "      <th>50%</th>\n",
       "      <td>11.018935</td>\n",
       "      <td>56.621736</td>\n",
       "      <td>150.919410</td>\n",
       "      <td>528.500000</td>\n",
       "    </tr>\n",
       "    <tr>\n",
       "      <th>75%</th>\n",
       "      <td>12.617447</td>\n",
       "      <td>58.077212</td>\n",
       "      <td>156.878923</td>\n",
       "      <td>575.901852</td>\n",
       "    </tr>\n",
       "    <tr>\n",
       "      <th>max</th>\n",
       "      <td>18.453021</td>\n",
       "      <td>62.690669</td>\n",
       "      <td>174.514142</td>\n",
       "      <td>878.654545</td>\n",
       "    </tr>\n",
       "  </tbody>\n",
       "</table>\n",
       "</div>"
      ],
      "text/plain": [
       "       S_ACC_day_total_IN_mg  S_ACC_day_total_LIG_mg  S_ACC_day_total_MOD_mg  \\\n",
       "count              85.000000               85.000000               85.000000   \n",
       "mean               11.340385               56.643764              151.943842   \n",
       "std                 2.508658                2.103355                8.156844   \n",
       "min                 3.883990               48.403983              130.712121   \n",
       "25%                10.164777               55.571720              146.369345   \n",
       "50%                11.018935               56.621736              150.919410   \n",
       "75%                12.617447               58.077212              156.878923   \n",
       "max                18.453021               62.690669              174.514142   \n",
       "\n",
       "       S_ACC_day_total_VIG_mg  \n",
       "count               83.000000  \n",
       "mean               545.822797  \n",
       "std                 77.282629  \n",
       "min                440.700000  \n",
       "25%                494.921429  \n",
       "50%                528.500000  \n",
       "75%                575.901852  \n",
       "max                878.654545  "
      ]
     },
     "execution_count": 12,
     "metadata": {},
     "output_type": "execute_result"
    }
   ],
   "source": [
    "prfe.describe()"
   ]
  },
  {
   "cell_type": "code",
   "execution_count": 13,
   "id": "e90f2417",
   "metadata": {},
   "outputs": [],
   "source": [
    "prfe = prfe.dropna()"
   ]
  },
  {
   "cell_type": "code",
   "execution_count": 14,
   "id": "c56e4f0f",
   "metadata": {},
   "outputs": [],
   "source": [
    "prfe['Aceleracion media'] = (prfe['S_ACC_day_total_IN_mg'] + prfe['S_ACC_day_total_LIG_mg'] + \n",
    "                             prfe['S_ACC_day_total_MOD_mg'] + prfe['S_ACC_day_total_VIG_mg']) / 4"
   ]
  },
  {
   "cell_type": "code",
   "execution_count": 15,
   "id": "d8da3e85",
   "metadata": {},
   "outputs": [
    {
     "data": {
      "text/html": [
       "<div>\n",
       "<style scoped>\n",
       "    .dataframe tbody tr th:only-of-type {\n",
       "        vertical-align: middle;\n",
       "    }\n",
       "\n",
       "    .dataframe tbody tr th {\n",
       "        vertical-align: top;\n",
       "    }\n",
       "\n",
       "    .dataframe thead th {\n",
       "        text-align: right;\n",
       "    }\n",
       "</style>\n",
       "<table border=\"1\" class=\"dataframe\">\n",
       "  <thead>\n",
       "    <tr style=\"text-align: right;\">\n",
       "      <th></th>\n",
       "      <th>S_ACC_day_total_IN_mg</th>\n",
       "      <th>S_ACC_day_total_LIG_mg</th>\n",
       "      <th>S_ACC_day_total_MOD_mg</th>\n",
       "      <th>S_ACC_day_total_VIG_mg</th>\n",
       "      <th>Aceleracion media</th>\n",
       "    </tr>\n",
       "  </thead>\n",
       "  <tbody>\n",
       "    <tr>\n",
       "      <th>count</th>\n",
       "      <td>83.000000</td>\n",
       "      <td>83.000000</td>\n",
       "      <td>83.000000</td>\n",
       "      <td>83.000000</td>\n",
       "      <td>83.000000</td>\n",
       "    </tr>\n",
       "    <tr>\n",
       "      <th>mean</th>\n",
       "      <td>11.463086</td>\n",
       "      <td>56.705728</td>\n",
       "      <td>152.229807</td>\n",
       "      <td>545.822797</td>\n",
       "      <td>191.555354</td>\n",
       "    </tr>\n",
       "    <tr>\n",
       "      <th>std</th>\n",
       "      <td>2.379677</td>\n",
       "      <td>2.059524</td>\n",
       "      <td>7.905713</td>\n",
       "      <td>77.282629</td>\n",
       "      <td>19.250158</td>\n",
       "    </tr>\n",
       "    <tr>\n",
       "      <th>min</th>\n",
       "      <td>5.420151</td>\n",
       "      <td>48.403983</td>\n",
       "      <td>137.619614</td>\n",
       "      <td>440.700000</td>\n",
       "      <td>162.239758</td>\n",
       "    </tr>\n",
       "    <tr>\n",
       "      <th>25%</th>\n",
       "      <td>10.227105</td>\n",
       "      <td>55.645528</td>\n",
       "      <td>146.460511</td>\n",
       "      <td>494.921429</td>\n",
       "      <td>178.620148</td>\n",
       "    </tr>\n",
       "    <tr>\n",
       "      <th>50%</th>\n",
       "      <td>11.035028</td>\n",
       "      <td>56.658232</td>\n",
       "      <td>151.046154</td>\n",
       "      <td>528.500000</td>\n",
       "      <td>189.104253</td>\n",
       "    </tr>\n",
       "    <tr>\n",
       "      <th>75%</th>\n",
       "      <td>12.737776</td>\n",
       "      <td>58.109315</td>\n",
       "      <td>157.110691</td>\n",
       "      <td>575.901852</td>\n",
       "      <td>200.880074</td>\n",
       "    </tr>\n",
       "    <tr>\n",
       "      <th>max</th>\n",
       "      <td>18.453021</td>\n",
       "      <td>62.690669</td>\n",
       "      <td>174.514142</td>\n",
       "      <td>878.654545</td>\n",
       "      <td>272.629613</td>\n",
       "    </tr>\n",
       "  </tbody>\n",
       "</table>\n",
       "</div>"
      ],
      "text/plain": [
       "       S_ACC_day_total_IN_mg  S_ACC_day_total_LIG_mg  S_ACC_day_total_MOD_mg  \\\n",
       "count              83.000000               83.000000               83.000000   \n",
       "mean               11.463086               56.705728              152.229807   \n",
       "std                 2.379677                2.059524                7.905713   \n",
       "min                 5.420151               48.403983              137.619614   \n",
       "25%                10.227105               55.645528              146.460511   \n",
       "50%                11.035028               56.658232              151.046154   \n",
       "75%                12.737776               58.109315              157.110691   \n",
       "max                18.453021               62.690669              174.514142   \n",
       "\n",
       "       S_ACC_day_total_VIG_mg  Aceleracion media  \n",
       "count               83.000000          83.000000  \n",
       "mean               545.822797         191.555354  \n",
       "std                 77.282629          19.250158  \n",
       "min                440.700000         162.239758  \n",
       "25%                494.921429         178.620148  \n",
       "50%                528.500000         189.104253  \n",
       "75%                575.901852         200.880074  \n",
       "max                878.654545         272.629613  "
      ]
     },
     "execution_count": 15,
     "metadata": {},
     "output_type": "execute_result"
    }
   ],
   "source": [
    "prfe.describe()"
   ]
  },
  {
   "cell_type": "code",
   "execution_count": 16,
   "id": "4423aec7",
   "metadata": {},
   "outputs": [],
   "source": [
    "prfe.rename(columns={'A_date': 'Fecha'}, inplace=True)\n",
    "prfe.rename(columns={'A_id': 'ID'}, inplace=True)\n",
    "prfe.rename(columns={'S_ACC_day_total_IN_mg': 'Aceleracion media inactividad'}, inplace=True)\n",
    "prfe.rename(columns={'S_ACC_day_total_LIG_mg': 'Aceleracion media ligera'}, inplace=True)\n",
    "prfe.rename(columns={'S_ACC_day_total_MOD_mg': 'Aceleracion media moderada'}, inplace=True)\n",
    "prfe.rename(columns={'S_ACC_day_total_VIG_mg': 'Aceleracion media vigorosa'}, inplace=True)\n",
    "prfe.rename(columns={'S_sleeponset_ts': 'HMS Dormir'}, inplace=True)\n",
    "prfe.rename(columns={'S_wakeup_ts': 'HMS Despertar'}, inplace=True)"
   ]
  },
  {
   "cell_type": "code",
   "execution_count": 17,
   "id": "e757aa9e",
   "metadata": {},
   "outputs": [
    {
     "data": {
      "text/html": [
       "<div>\n",
       "<style scoped>\n",
       "    .dataframe tbody tr th:only-of-type {\n",
       "        vertical-align: middle;\n",
       "    }\n",
       "\n",
       "    .dataframe tbody tr th {\n",
       "        vertical-align: top;\n",
       "    }\n",
       "\n",
       "    .dataframe thead th {\n",
       "        text-align: right;\n",
       "    }\n",
       "</style>\n",
       "<table border=\"1\" class=\"dataframe\">\n",
       "  <thead>\n",
       "    <tr style=\"text-align: right;\">\n",
       "      <th></th>\n",
       "      <th>Fecha</th>\n",
       "      <th>ID</th>\n",
       "      <th>Aceleracion media inactividad</th>\n",
       "      <th>Aceleracion media ligera</th>\n",
       "      <th>Aceleracion media moderada</th>\n",
       "      <th>Aceleracion media vigorosa</th>\n",
       "      <th>HMS Dormir</th>\n",
       "      <th>HMS Despertar</th>\n",
       "      <th>Aceleracion media</th>\n",
       "    </tr>\n",
       "  </thead>\n",
       "  <tbody>\n",
       "    <tr>\n",
       "      <th>2</th>\n",
       "      <td>2018-02-02</td>\n",
       "      <td>PRFE</td>\n",
       "      <td>10.300721</td>\n",
       "      <td>55.790294</td>\n",
       "      <td>170.053180</td>\n",
       "      <td>543.040000</td>\n",
       "      <td>23:49:50</td>\n",
       "      <td>09:50:15</td>\n",
       "      <td>194.796049</td>\n",
       "    </tr>\n",
       "    <tr>\n",
       "      <th>3</th>\n",
       "      <td>2018-02-03</td>\n",
       "      <td>PRFE</td>\n",
       "      <td>10.725991</td>\n",
       "      <td>55.719336</td>\n",
       "      <td>154.367094</td>\n",
       "      <td>484.111765</td>\n",
       "      <td>02:22:00</td>\n",
       "      <td>13:59:45</td>\n",
       "      <td>176.231046</td>\n",
       "    </tr>\n",
       "    <tr>\n",
       "      <th>13</th>\n",
       "      <td>2018-02-05</td>\n",
       "      <td>PRFE</td>\n",
       "      <td>9.010099</td>\n",
       "      <td>59.535636</td>\n",
       "      <td>151.145848</td>\n",
       "      <td>477.650000</td>\n",
       "      <td>22:25:55</td>\n",
       "      <td>10:36:55</td>\n",
       "      <td>174.335396</td>\n",
       "    </tr>\n",
       "    <tr>\n",
       "      <th>24</th>\n",
       "      <td>2018-02-06</td>\n",
       "      <td>PRFE</td>\n",
       "      <td>11.280871</td>\n",
       "      <td>55.792582</td>\n",
       "      <td>174.514142</td>\n",
       "      <td>506.976190</td>\n",
       "      <td>03:47:25</td>\n",
       "      <td>10:05:35</td>\n",
       "      <td>187.140947</td>\n",
       "    </tr>\n",
       "    <tr>\n",
       "      <th>35</th>\n",
       "      <td>2018-02-07</td>\n",
       "      <td>PRFE</td>\n",
       "      <td>13.226074</td>\n",
       "      <td>58.336905</td>\n",
       "      <td>151.545087</td>\n",
       "      <td>574.159259</td>\n",
       "      <td>02:26:15</td>\n",
       "      <td>12:50:10</td>\n",
       "      <td>199.316831</td>\n",
       "    </tr>\n",
       "  </tbody>\n",
       "</table>\n",
       "</div>"
      ],
      "text/plain": [
       "         Fecha    ID  Aceleracion media inactividad  Aceleracion media ligera  \\\n",
       "2   2018-02-02  PRFE                      10.300721                 55.790294   \n",
       "3   2018-02-03  PRFE                      10.725991                 55.719336   \n",
       "13  2018-02-05  PRFE                       9.010099                 59.535636   \n",
       "24  2018-02-06  PRFE                      11.280871                 55.792582   \n",
       "35  2018-02-07  PRFE                      13.226074                 58.336905   \n",
       "\n",
       "    Aceleracion media moderada  Aceleracion media vigorosa HMS Dormir  \\\n",
       "2                   170.053180                  543.040000   23:49:50   \n",
       "3                   154.367094                  484.111765   02:22:00   \n",
       "13                  151.145848                  477.650000   22:25:55   \n",
       "24                  174.514142                  506.976190   03:47:25   \n",
       "35                  151.545087                  574.159259   02:26:15   \n",
       "\n",
       "   HMS Despertar  Aceleracion media  \n",
       "2       09:50:15         194.796049  \n",
       "3       13:59:45         176.231046  \n",
       "13      10:36:55         174.335396  \n",
       "24      10:05:35         187.140947  \n",
       "35      12:50:10         199.316831  "
      ]
     },
     "execution_count": 17,
     "metadata": {},
     "output_type": "execute_result"
    }
   ],
   "source": [
    "prfe.head()"
   ]
  },
  {
   "cell_type": "code",
   "execution_count": 18,
   "id": "da7c8c9c",
   "metadata": {},
   "outputs": [
    {
     "data": {
      "text/plain": [
       "(83, 9)"
      ]
     },
     "execution_count": 18,
     "metadata": {},
     "output_type": "execute_result"
    }
   ],
   "source": [
    "prfe.shape"
   ]
  },
  {
   "cell_type": "code",
   "execution_count": 19,
   "id": "031cbe78",
   "metadata": {},
   "outputs": [],
   "source": [
    "# Convertir a datetime\n",
    "prfe['HMS Dormir'] = pd.to_datetime(prfe['HMS Dormir'], format='%H:%M:%S').dt.time\n",
    "prfe['HMS Despertar'] = pd.to_datetime(prfe['HMS Despertar'], format='%H:%M:%S').dt.time\n",
    "\n",
    "# Convertir a timedelta\n",
    "prfe['HMS Dormir'] = pd.to_timedelta(prfe['HMS Dormir'].astype(str))\n",
    "prfe['HMS Despertar'] = pd.to_timedelta(prfe['HMS Despertar'].astype(str))\n",
    "\n",
    "# Calcular la diferencia de tiempo\n",
    "def calcular_tiempo_dormido(row):\n",
    "    if row['HMS Despertar'] > row['HMS Dormir']:\n",
    "        return row['HMS Despertar'] - row['HMS Dormir']\n",
    "    else:\n",
    "        return pd.Timedelta(days=1) - row['HMS Dormir'] + row['HMS Despertar']\n",
    "\n",
    "prfe['Tiempo Durmiendo (s)'] = prfe.apply(calcular_tiempo_dormido, axis=1)"
   ]
  },
  {
   "cell_type": "code",
   "execution_count": 20,
   "id": "967fccf2",
   "metadata": {},
   "outputs": [],
   "source": [
    "prfe['Tiempo Durmiendo (s)'] = prfe['Tiempo Durmiendo (s)'].apply(lambda x: x.total_seconds())\n",
    "prfe['Tiempo Durmiendo (s)'] = prfe['Tiempo Durmiendo (s)'].astype(int)"
   ]
  },
  {
   "cell_type": "code",
   "execution_count": 21,
   "id": "c0b91557",
   "metadata": {},
   "outputs": [
    {
     "data": {
      "text/html": [
       "<div>\n",
       "<style scoped>\n",
       "    .dataframe tbody tr th:only-of-type {\n",
       "        vertical-align: middle;\n",
       "    }\n",
       "\n",
       "    .dataframe tbody tr th {\n",
       "        vertical-align: top;\n",
       "    }\n",
       "\n",
       "    .dataframe thead th {\n",
       "        text-align: right;\n",
       "    }\n",
       "</style>\n",
       "<table border=\"1\" class=\"dataframe\">\n",
       "  <thead>\n",
       "    <tr style=\"text-align: right;\">\n",
       "      <th></th>\n",
       "      <th>Fecha</th>\n",
       "      <th>ID</th>\n",
       "      <th>Aceleracion media inactividad</th>\n",
       "      <th>Aceleracion media ligera</th>\n",
       "      <th>Aceleracion media moderada</th>\n",
       "      <th>Aceleracion media vigorosa</th>\n",
       "      <th>HMS Dormir</th>\n",
       "      <th>HMS Despertar</th>\n",
       "      <th>Aceleracion media</th>\n",
       "      <th>Tiempo Durmiendo (s)</th>\n",
       "    </tr>\n",
       "  </thead>\n",
       "  <tbody>\n",
       "    <tr>\n",
       "      <th>2</th>\n",
       "      <td>2018-02-02</td>\n",
       "      <td>PRFE</td>\n",
       "      <td>10.300721</td>\n",
       "      <td>55.790294</td>\n",
       "      <td>170.053180</td>\n",
       "      <td>543.040000</td>\n",
       "      <td>0 days 23:49:50</td>\n",
       "      <td>0 days 09:50:15</td>\n",
       "      <td>194.796049</td>\n",
       "      <td>36025</td>\n",
       "    </tr>\n",
       "    <tr>\n",
       "      <th>3</th>\n",
       "      <td>2018-02-03</td>\n",
       "      <td>PRFE</td>\n",
       "      <td>10.725991</td>\n",
       "      <td>55.719336</td>\n",
       "      <td>154.367094</td>\n",
       "      <td>484.111765</td>\n",
       "      <td>0 days 02:22:00</td>\n",
       "      <td>0 days 13:59:45</td>\n",
       "      <td>176.231046</td>\n",
       "      <td>41865</td>\n",
       "    </tr>\n",
       "    <tr>\n",
       "      <th>13</th>\n",
       "      <td>2018-02-05</td>\n",
       "      <td>PRFE</td>\n",
       "      <td>9.010099</td>\n",
       "      <td>59.535636</td>\n",
       "      <td>151.145848</td>\n",
       "      <td>477.650000</td>\n",
       "      <td>0 days 22:25:55</td>\n",
       "      <td>0 days 10:36:55</td>\n",
       "      <td>174.335396</td>\n",
       "      <td>43860</td>\n",
       "    </tr>\n",
       "    <tr>\n",
       "      <th>24</th>\n",
       "      <td>2018-02-06</td>\n",
       "      <td>PRFE</td>\n",
       "      <td>11.280871</td>\n",
       "      <td>55.792582</td>\n",
       "      <td>174.514142</td>\n",
       "      <td>506.976190</td>\n",
       "      <td>0 days 03:47:25</td>\n",
       "      <td>0 days 10:05:35</td>\n",
       "      <td>187.140947</td>\n",
       "      <td>22690</td>\n",
       "    </tr>\n",
       "    <tr>\n",
       "      <th>35</th>\n",
       "      <td>2018-02-07</td>\n",
       "      <td>PRFE</td>\n",
       "      <td>13.226074</td>\n",
       "      <td>58.336905</td>\n",
       "      <td>151.545087</td>\n",
       "      <td>574.159259</td>\n",
       "      <td>0 days 02:26:15</td>\n",
       "      <td>0 days 12:50:10</td>\n",
       "      <td>199.316831</td>\n",
       "      <td>37435</td>\n",
       "    </tr>\n",
       "    <tr>\n",
       "      <th>...</th>\n",
       "      <td>...</td>\n",
       "      <td>...</td>\n",
       "      <td>...</td>\n",
       "      <td>...</td>\n",
       "      <td>...</td>\n",
       "      <td>...</td>\n",
       "      <td>...</td>\n",
       "      <td>...</td>\n",
       "      <td>...</td>\n",
       "      <td>...</td>\n",
       "    </tr>\n",
       "    <tr>\n",
       "      <th>4949</th>\n",
       "      <td>2018-06-26</td>\n",
       "      <td>PRFE</td>\n",
       "      <td>10.033798</td>\n",
       "      <td>58.230600</td>\n",
       "      <td>162.454103</td>\n",
       "      <td>457.388889</td>\n",
       "      <td>0 days 00:08:45</td>\n",
       "      <td>0 days 10:33:20</td>\n",
       "      <td>172.026847</td>\n",
       "      <td>37475</td>\n",
       "    </tr>\n",
       "    <tr>\n",
       "      <th>4992</th>\n",
       "      <td>2018-06-27</td>\n",
       "      <td>PRFE</td>\n",
       "      <td>10.178534</td>\n",
       "      <td>62.690669</td>\n",
       "      <td>139.577154</td>\n",
       "      <td>486.850000</td>\n",
       "      <td>0 days 01:58:45</td>\n",
       "      <td>0 days 10:16:35</td>\n",
       "      <td>174.824089</td>\n",
       "      <td>29870</td>\n",
       "    </tr>\n",
       "    <tr>\n",
       "      <th>5036</th>\n",
       "      <td>2018-06-28</td>\n",
       "      <td>PRFE</td>\n",
       "      <td>10.809532</td>\n",
       "      <td>59.510026</td>\n",
       "      <td>149.727620</td>\n",
       "      <td>544.970588</td>\n",
       "      <td>0 days 05:41:20</td>\n",
       "      <td>0 days 10:02:05</td>\n",
       "      <td>191.254442</td>\n",
       "      <td>15645</td>\n",
       "    </tr>\n",
       "    <tr>\n",
       "      <th>5080</th>\n",
       "      <td>2018-06-29</td>\n",
       "      <td>PRFE</td>\n",
       "      <td>10.940984</td>\n",
       "      <td>58.957776</td>\n",
       "      <td>154.977043</td>\n",
       "      <td>502.335714</td>\n",
       "      <td>0 days 02:53:45</td>\n",
       "      <td>0 days 12:48:15</td>\n",
       "      <td>181.802879</td>\n",
       "      <td>35670</td>\n",
       "    </tr>\n",
       "    <tr>\n",
       "      <th>5124</th>\n",
       "      <td>2018-06-30</td>\n",
       "      <td>PRFE</td>\n",
       "      <td>11.949092</td>\n",
       "      <td>56.245482</td>\n",
       "      <td>140.181963</td>\n",
       "      <td>522.495238</td>\n",
       "      <td>0 days 03:15:45</td>\n",
       "      <td>0 days 14:46:30</td>\n",
       "      <td>182.717944</td>\n",
       "      <td>41445</td>\n",
       "    </tr>\n",
       "  </tbody>\n",
       "</table>\n",
       "<p>83 rows × 10 columns</p>\n",
       "</div>"
      ],
      "text/plain": [
       "           Fecha    ID  Aceleracion media inactividad  \\\n",
       "2     2018-02-02  PRFE                      10.300721   \n",
       "3     2018-02-03  PRFE                      10.725991   \n",
       "13    2018-02-05  PRFE                       9.010099   \n",
       "24    2018-02-06  PRFE                      11.280871   \n",
       "35    2018-02-07  PRFE                      13.226074   \n",
       "...          ...   ...                            ...   \n",
       "4949  2018-06-26  PRFE                      10.033798   \n",
       "4992  2018-06-27  PRFE                      10.178534   \n",
       "5036  2018-06-28  PRFE                      10.809532   \n",
       "5080  2018-06-29  PRFE                      10.940984   \n",
       "5124  2018-06-30  PRFE                      11.949092   \n",
       "\n",
       "      Aceleracion media ligera  Aceleracion media moderada  \\\n",
       "2                    55.790294                  170.053180   \n",
       "3                    55.719336                  154.367094   \n",
       "13                   59.535636                  151.145848   \n",
       "24                   55.792582                  174.514142   \n",
       "35                   58.336905                  151.545087   \n",
       "...                        ...                         ...   \n",
       "4949                 58.230600                  162.454103   \n",
       "4992                 62.690669                  139.577154   \n",
       "5036                 59.510026                  149.727620   \n",
       "5080                 58.957776                  154.977043   \n",
       "5124                 56.245482                  140.181963   \n",
       "\n",
       "      Aceleracion media vigorosa      HMS Dormir   HMS Despertar  \\\n",
       "2                     543.040000 0 days 23:49:50 0 days 09:50:15   \n",
       "3                     484.111765 0 days 02:22:00 0 days 13:59:45   \n",
       "13                    477.650000 0 days 22:25:55 0 days 10:36:55   \n",
       "24                    506.976190 0 days 03:47:25 0 days 10:05:35   \n",
       "35                    574.159259 0 days 02:26:15 0 days 12:50:10   \n",
       "...                          ...             ...             ...   \n",
       "4949                  457.388889 0 days 00:08:45 0 days 10:33:20   \n",
       "4992                  486.850000 0 days 01:58:45 0 days 10:16:35   \n",
       "5036                  544.970588 0 days 05:41:20 0 days 10:02:05   \n",
       "5080                  502.335714 0 days 02:53:45 0 days 12:48:15   \n",
       "5124                  522.495238 0 days 03:15:45 0 days 14:46:30   \n",
       "\n",
       "      Aceleracion media  Tiempo Durmiendo (s)  \n",
       "2            194.796049                 36025  \n",
       "3            176.231046                 41865  \n",
       "13           174.335396                 43860  \n",
       "24           187.140947                 22690  \n",
       "35           199.316831                 37435  \n",
       "...                 ...                   ...  \n",
       "4949         172.026847                 37475  \n",
       "4992         174.824089                 29870  \n",
       "5036         191.254442                 15645  \n",
       "5080         181.802879                 35670  \n",
       "5124         182.717944                 41445  \n",
       "\n",
       "[83 rows x 10 columns]"
      ]
     },
     "execution_count": 21,
     "metadata": {},
     "output_type": "execute_result"
    }
   ],
   "source": [
    "prfe"
   ]
  },
  {
   "cell_type": "code",
   "execution_count": 22,
   "id": "f0d810b0",
   "metadata": {},
   "outputs": [
    {
     "data": {
      "text/plain": [
       "4476    73175\n",
       "779     72575\n",
       "4142    49075\n",
       "4349    46775\n",
       "47      46555\n",
       "        ...  \n",
       "4818    28720\n",
       "3423    28135\n",
       "2827    27845\n",
       "24      22690\n",
       "5036    15645\n",
       "Name: Tiempo Durmiendo (s), Length: 83, dtype: int32"
      ]
     },
     "execution_count": 22,
     "metadata": {},
     "output_type": "execute_result"
    }
   ],
   "source": [
    "prfe['Tiempo Durmiendo (s)'].sort_values(ascending=False)"
   ]
  },
  {
   "cell_type": "code",
   "execution_count": 23,
   "id": "4858a234",
   "metadata": {},
   "outputs": [
    {
     "data": {
      "text/plain": [
       "558     272.629613\n",
       "480     272.212881\n",
       "930     243.149790\n",
       "3623    220.821821\n",
       "47      219.245552\n",
       "           ...    \n",
       "4308    170.971681\n",
       "3818    168.897902\n",
       "3662    166.413524\n",
       "4226    165.920136\n",
       "2985    162.239758\n",
       "Name: Aceleracion media, Length: 83, dtype: float64"
      ]
     },
     "execution_count": 23,
     "metadata": {},
     "output_type": "execute_result"
    }
   ],
   "source": [
    "prfe['Aceleracion media'].sort_values(ascending=False)"
   ]
  },
  {
   "cell_type": "code",
   "execution_count": 24,
   "id": "c515988a",
   "metadata": {},
   "outputs": [],
   "source": [
    "prfe = prfe.drop(index=[4476, 779, 558, 480])"
   ]
  },
  {
   "cell_type": "markdown",
   "id": "ea5acab0",
   "metadata": {},
   "source": [
    "## Eliminación de outliers"
   ]
  },
  {
   "cell_type": "code",
   "execution_count": 25,
   "id": "5396948c",
   "metadata": {},
   "outputs": [],
   "source": [
    "Q1 = prfe[['Tiempo Durmiendo (s)', 'Aceleracion media']].quantile(0.25)\n",
    "Q3 = prfe[['Tiempo Durmiendo (s)', 'Aceleracion media']].quantile(0.75)\n",
    "IQR = Q3 - Q1"
   ]
  },
  {
   "cell_type": "code",
   "execution_count": 26,
   "id": "84fd8b17",
   "metadata": {},
   "outputs": [],
   "source": [
    "lower_bound = Q1 #- 0.5 * IQR\n",
    "upper_bound = Q3 #+ 0.5 * IQR"
   ]
  },
  {
   "cell_type": "code",
   "execution_count": 27,
   "id": "d3996601",
   "metadata": {},
   "outputs": [
    {
     "name": "stdout",
     "output_type": "stream",
     "text": [
      "178.62014785882084\n",
      "200.01381480150872\n",
      "35525.0\n",
      "41580.0\n"
     ]
    }
   ],
   "source": [
    "print(lower_bound['Aceleracion media'])\n",
    "print(upper_bound['Aceleracion media'])\n",
    "print(lower_bound['Tiempo Durmiendo (s)'])\n",
    "print(upper_bound['Tiempo Durmiendo (s)'])"
   ]
  },
  {
   "cell_type": "code",
   "execution_count": 28,
   "id": "d1cc9047",
   "metadata": {},
   "outputs": [],
   "source": [
    "# Filtrar los datos eliminando registros donde ambas variables sean mayores al upper bound\n",
    "data_filtered = prfe[~((prfe['Tiempo Durmiendo (s)'] > upper_bound['Tiempo Durmiendo (s)']) & (prfe['Aceleracion media'] > upper_bound['Aceleracion media']))]\n",
    "\n",
    "# Filtrar los datos eliminando registros donde ambas variables sean menores al lower bound\n",
    "data_filtered = data_filtered[~((prfe['Tiempo Durmiendo (s)'] < lower_bound['Tiempo Durmiendo (s)']) & (prfe['Aceleracion media'] < lower_bound['Aceleracion media']))]"
   ]
  },
  {
   "cell_type": "code",
   "execution_count": 29,
   "id": "ea8e717c",
   "metadata": {},
   "outputs": [
    {
     "data": {
      "text/plain": [
       "(73, 10)"
      ]
     },
     "execution_count": 29,
     "metadata": {},
     "output_type": "execute_result"
    }
   ],
   "source": [
    "data_filtered.shape"
   ]
  },
  {
   "cell_type": "code",
   "execution_count": 30,
   "id": "42670f0b",
   "metadata": {},
   "outputs": [],
   "source": [
    "umbral_dormir_mucho = upper_bound['Tiempo Durmiendo (s)']\n",
    "umbral_dormir_poco = lower_bound['Tiempo Durmiendo (s)']\n",
    "umbral_caminar_poco = lower_bound['Aceleracion media']\n",
    "umbral_caminar_mucho = upper_bound['Aceleracion media']\n",
    "\n",
    "# Clasificar los datos en grupos\n",
    "data_filtered['Grupo'] = 'Eutimia'\n",
    "data_filtered.loc[(data_filtered['Tiempo Durmiendo (s)'] > umbral_dormir_mucho) & (data_filtered['Aceleracion media'] < umbral_caminar_poco), 'Grupo'] = 'Depresión'\n",
    "data_filtered.loc[(data_filtered['Tiempo Durmiendo (s)'] < umbral_dormir_poco) & (data_filtered['Aceleracion media'] > umbral_caminar_mucho), 'Grupo'] = 'Manía'"
   ]
  },
  {
   "cell_type": "code",
   "execution_count": 31,
   "id": "3d56de56",
   "metadata": {},
   "outputs": [
    {
     "data": {
      "text/plain": [
       "Grupo\n",
       "Eutimia      62\n",
       "Manía         6\n",
       "Depresión     5\n",
       "Name: count, dtype: int64"
      ]
     },
     "execution_count": 31,
     "metadata": {},
     "output_type": "execute_result"
    }
   ],
   "source": [
    "data_filtered['Grupo'].value_counts()"
   ]
  },
  {
   "cell_type": "code",
   "execution_count": 32,
   "id": "a66dfe6c",
   "metadata": {},
   "outputs": [],
   "source": [
    "mapeo_grupos = {'Eutimia': 1, 'Depresión': 2, 'Manía': 3}\n",
    "data_filtered['Grupo_mapped'] = data_filtered['Grupo'].map(mapeo_grupos)"
   ]
  },
  {
   "cell_type": "code",
   "execution_count": 33,
   "id": "79821235",
   "metadata": {},
   "outputs": [
    {
     "data": {
      "image/png": "[encoded data removed]",
      "text/plain": [
       "<Figure size 640x480 with 1 Axes>"
      ]
     },
     "metadata": {},
     "output_type": "display_data"
    }
   ],
   "source": [
    "scatter = plt.scatter(data_filtered['Tiempo Durmiendo (s)'], data_filtered['Aceleracion media'], c=data_filtered['Grupo_mapped'], cmap='viridis')\n",
    "\n",
    "handles, labels = scatter.legend_elements()\n",
    "legend_labels = [key for key, value in mapeo_grupos.items()]\n",
    "plt.legend(handles, legend_labels)\n",
    "\n",
    "plt.xlabel('Tiempo Durmiendo (s)')\n",
    "plt.ylabel('Aceleración media')\n",
    "plt.title('Clasificación control del Individuo 4')\n",
    "\n",
    "# Guaramos la imagen\n",
    "plt.savefig('Control_pac.jpg')\n",
    "\n",
    "plt.show()"
   ]
  },
  {
   "cell_type": "markdown",
   "id": "5172b623",
   "metadata": {},
   "source": [
    "## Propuesta modelo clasificación"
   ]
  },
  {
   "cell_type": "code",
   "execution_count": 34,
   "id": "54d1f1e1",
   "metadata": {},
   "outputs": [],
   "source": [
    "def algoritmo_clasificacion(df):\n",
    "    # Inicializar contadores para cada combinación de Grupo y Cluster\n",
    "    contador = {\n",
    "        'Eutimia': [0, 0, 0],\n",
    "        'Depresión': [0, 0, 0],\n",
    "        'Manía': [0, 0, 0]\n",
    "    }\n",
    "\n",
    "    # Contar las coincidencias\n",
    "    for i in range(len(df)):\n",
    "        grupo = df['Grupo'].iloc[i]\n",
    "        cluster = df['Cluster'].iloc[i]\n",
    "        if grupo in contador and cluster in [0, 1, 2]:\n",
    "            contador[grupo][cluster] += 1\n",
    "\n",
    "    # Determinar el grupo principal para Eutimia\n",
    "    max_eutimia_value = max(contador['Eutimia'])\n",
    "    grupo_eutimia = contador['Eutimia'].index(max_eutimia_value)\n",
    "\n",
    "    # Determinar los grupos restantes (excluyendo el grupo principal de Eutimia)\n",
    "    grupos_restantes = [i for i in [0, 1, 2] if i != grupo_eutimia]\n",
    "\n",
    "    # Evaluar combinaciones para Depresión y Manía\n",
    "    dep_mania_combinations = [\n",
    "        (grupos_restantes[0], grupos_restantes[1]),\n",
    "        (grupos_restantes[1], grupos_restantes[0])\n",
    "    ]\n",
    "\n",
    "    max_total = 0\n",
    "    mejor_combination = None\n",
    "\n",
    "    for comb in dep_mania_combinations:\n",
    "        total = max_eutimia_value + contador['Depresión'][comb[0]] + contador['Manía'][comb[1]]\n",
    "        if total > max_total:\n",
    "            max_total = total\n",
    "            mejor_combination = comb\n",
    "\n",
    "    # Resultado final\n",
    "    resultado = {\n",
    "        \"Eutimia\": grupo_eutimia,\n",
    "        \"Depresión\": mejor_combination[0],\n",
    "        \"Manía\": mejor_combination[1],\n",
    "        \"Total Correct Matches\": max_total\n",
    "    }\n",
    "\n",
    "    return resultado"
   ]
  },
  {
   "cell_type": "markdown",
   "id": "78287046",
   "metadata": {},
   "source": [
    "## Modelo KMeans"
   ]
  },
  {
   "cell_type": "code",
   "execution_count": 35,
   "id": "06410725",
   "metadata": {},
   "outputs": [
    {
     "data": {
      "image/png": "[encoded data removed]",
      "text/plain": [
       "<Figure size 640x480 with 1 Axes>"
      ]
     },
     "metadata": {},
     "output_type": "display_data"
    }
   ],
   "source": [
    "kmeans = KMeans(n_clusters=3, random_state=seed)\n",
    "kmeans.fit(data_filtered[['Tiempo Durmiendo (s)', 'Aceleracion media', 'Aceleracion media vigorosa']])\n",
    "\n",
    "# Obtener las etiquetas de los clusters asignadas a cada muestra\n",
    "cluster_labels = kmeans.labels_\n",
    "data_filtered['Cluster'] = kmeans.labels_\n",
    "\n",
    "# Iterar sobre cada cluster y graficar los puntos correspondientes\n",
    "for cluster in set(cluster_labels):\n",
    "    x_cluster = data_filtered.loc[cluster_labels == cluster, 'Tiempo Durmiendo (s)']\n",
    "    y_cluster = data_filtered.loc[cluster_labels == cluster, 'Aceleracion media']\n",
    "    plt.scatter(x_cluster, y_cluster, label=f'{cluster}', cmap='viridis')\n",
    "\n",
    "# Agregar leyenda\n",
    "plt.legend()\n",
    "\n",
    "# Personalizar el gráfico\n",
    "plt.xlabel('Tiempo Durmiendo (s)')\n",
    "plt.ylabel('Aceleracion media')\n",
    "#plt.xticks(ticks=[15000, 20000, 25000, 30000, 35000])\n",
    "plt.title('KMeans')\n",
    "# Mostrar el gráfico\n",
    "plt.show()"
   ]
  },
  {
   "cell_type": "code",
   "execution_count": 36,
   "id": "4dcad4d4",
   "metadata": {},
   "outputs": [
    {
     "data": {
      "text/plain": [
       "2    38\n",
       "0    25\n",
       "1    10\n",
       "Name: count, dtype: int64"
      ]
     },
     "execution_count": 36,
     "metadata": {},
     "output_type": "execute_result"
    }
   ],
   "source": [
    "# Clasificación de los clústeres\n",
    "agg_km = pd.DataFrame(cluster_labels)\n",
    "agg_km.value_counts()"
   ]
  },
  {
   "cell_type": "code",
   "execution_count": 37,
   "id": "e9610e19",
   "metadata": {},
   "outputs": [
    {
     "data": {
      "text/plain": [
       "{'Eutimia': 2, 'Depresión': 0, 'Manía': 1, 'Total Correct Matches': 43}"
      ]
     },
     "execution_count": 37,
     "metadata": {},
     "output_type": "execute_result"
    }
   ],
   "source": [
    "algoritmo_clasificacion(data_filtered)"
   ]
  },
  {
   "cell_type": "markdown",
   "id": "c0b889e7",
   "metadata": {},
   "source": [
    "## Agglomerative Clustering"
   ]
  },
  {
   "cell_type": "code",
   "execution_count": 38,
   "id": "461ab182",
   "metadata": {},
   "outputs": [
    {
     "data": {
      "image/png": "[encoded data removed]",
      "text/plain": [
       "<Figure size 640x480 with 1 Axes>"
      ]
     },
     "metadata": {},
     "output_type": "display_data"
    }
   ],
   "source": [
    "clustering = AgglomerativeClustering(n_clusters=3, linkage='ward')\n",
    "\n",
    "# Ajustar el modelo a los datos\n",
    "clustering.fit(data_filtered[['Tiempo Durmiendo (s)', 'Aceleracion media', 'Aceleracion media vigorosa']])\n",
    "\n",
    "# Obtener las etiquetas de los clusters asignadas a cada punto\n",
    "labels = clustering.labels_\n",
    "data_filtered['Cluster'] = clustering.labels_\n",
    "\n",
    "for cluster in set(labels):\n",
    "    #data_cluster = data_filtered_ward[data_filtered_ward['Ward'] == cluster]\n",
    "    x_cluster = data_filtered.loc[labels == cluster, 'Tiempo Durmiendo (s)']\n",
    "    y_cluster = data_filtered.loc[labels == cluster, 'Aceleracion media']\n",
    "    plt.scatter(x_cluster, y_cluster, label=f'{cluster}')\n",
    "\n",
    "plt.xlabel('Tiempo Durmiendo (s)')\n",
    "plt.ylabel('Aceleracion media')\n",
    "#plt.xticks(ticks=[15000, 20000, 25000, 30000, 35000])\n",
    "plt.title('Agglomerative Clustering: Ward')\n",
    "plt.legend()\n",
    "plt.show()"
   ]
  },
  {
   "cell_type": "code",
   "execution_count": 39,
   "id": "d521fe10",
   "metadata": {},
   "outputs": [
    {
     "data": {
      "text/plain": [
       "2    34\n",
       "1    24\n",
       "0    15\n",
       "Name: count, dtype: int64"
      ]
     },
     "execution_count": 39,
     "metadata": {},
     "output_type": "execute_result"
    }
   ],
   "source": [
    "# Clasificación de los clústeres\n",
    "agg_ward = pd.DataFrame(labels)\n",
    "agg_ward.value_counts()"
   ]
  },
  {
   "cell_type": "code",
   "execution_count": 40,
   "id": "9d1be21e",
   "metadata": {},
   "outputs": [
    {
     "data": {
      "text/plain": [
       "{'Eutimia': 2, 'Depresión': 1, 'Manía': 0, 'Total Correct Matches': 43}"
      ]
     },
     "execution_count": 40,
     "metadata": {},
     "output_type": "execute_result"
    }
   ],
   "source": [
    "algoritmo_clasificacion(data_filtered)"
   ]
  },
  {
   "cell_type": "code",
   "execution_count": 41,
   "id": "f349a959",
   "metadata": {},
   "outputs": [
    {
     "data": {
      "image/png": "[encoded data removed]",
      "text/plain": [
       "<Figure size 640x480 with 1 Axes>"
      ]
     },
     "metadata": {},
     "output_type": "display_data"
    }
   ],
   "source": [
    "clustering = AgglomerativeClustering(n_clusters=3, linkage='single')\n",
    "\n",
    "# Ajustar el modelo a los datos\n",
    "clustering.fit(data_filtered[['Tiempo Durmiendo (s)', 'Aceleracion media', 'Aceleracion media vigorosa']])\n",
    "\n",
    "# Obtener las etiquetas de los clusters asignadas a cada punto\n",
    "labels = clustering.labels_\n",
    "data_filtered['Cluster'] = clustering.labels_\n",
    "\n",
    "for cluster in set(labels):\n",
    "    #data_cluster = data_filtered_ward[data_filtered_ward['Ward'] == cluster]\n",
    "    x_cluster = data_filtered.loc[labels == cluster, 'Tiempo Durmiendo (s)']\n",
    "    y_cluster = data_filtered.loc[labels == cluster, 'Aceleracion media']\n",
    "    plt.scatter(x_cluster, y_cluster, label=f'{cluster}')\n",
    "\n",
    "plt.xlabel('Tiempo Durmiendo (s)')\n",
    "plt.ylabel('Aceleracion media')\n",
    "#plt.xticks(ticks=[15000, 20000, 25000, 30000, 35000])\n",
    "plt.title('Agglomerative Clustering: Single')\n",
    "plt.legend()\n",
    "plt.show()"
   ]
  },
  {
   "cell_type": "code",
   "execution_count": 42,
   "id": "7cb1f9af",
   "metadata": {},
   "outputs": [
    {
     "data": {
      "text/plain": [
       "0    71\n",
       "1     1\n",
       "2     1\n",
       "Name: count, dtype: int64"
      ]
     },
     "execution_count": 42,
     "metadata": {},
     "output_type": "execute_result"
    }
   ],
   "source": [
    "# Clasificación de los clústeres\n",
    "agg_single = pd.DataFrame(labels)\n",
    "agg_single.value_counts()"
   ]
  },
  {
   "cell_type": "code",
   "execution_count": 43,
   "id": "9b893789",
   "metadata": {},
   "outputs": [
    {
     "data": {
      "text/plain": [
       "{'Eutimia': 0, 'Depresión': 1, 'Manía': 2, 'Total Correct Matches': 60}"
      ]
     },
     "execution_count": 43,
     "metadata": {},
     "output_type": "execute_result"
    }
   ],
   "source": [
    "algoritmo_clasificacion(data_filtered)"
   ]
  },
  {
   "cell_type": "code",
   "execution_count": 44,
   "id": "5e1676b9",
   "metadata": {},
   "outputs": [
    {
     "data": {
      "image/png": "[encoded data removed]",
      "text/plain": [
       "<Figure size 640x480 with 1 Axes>"
      ]
     },
     "metadata": {},
     "output_type": "display_data"
    }
   ],
   "source": [
    "clustering = AgglomerativeClustering(n_clusters=3, linkage='complete')\n",
    "\n",
    "# Ajustar el modelo a los datos\n",
    "clustering.fit(data_filtered[['Tiempo Durmiendo (s)', 'Aceleracion media', 'Aceleracion media vigorosa']])\n",
    "\n",
    "# Obtener las etiquetas de los clusters asignadas a cada punto\n",
    "labels = clustering.labels_\n",
    "data_filtered['Cluster'] = clustering.labels_\n",
    "\n",
    "for cluster in set(labels):\n",
    "    #data_cluster = data_filtered_ward[data_filtered_ward['Ward'] == cluster]\n",
    "    x_cluster = data_filtered.loc[labels == cluster, 'Tiempo Durmiendo (s)']\n",
    "    y_cluster = data_filtered.loc[labels == cluster, 'Aceleracion media']\n",
    "    plt.scatter(x_cluster, y_cluster, label=f'{cluster}')\n",
    "\n",
    "plt.xlabel('Tiempo Durmiendo (s)')\n",
    "plt.ylabel('Aceleracion media')\n",
    "#plt.xticks(ticks=[15000, 20000, 25000, 30000, 35000])\n",
    "plt.title('Agglomerative Clustering: Complete')\n",
    "plt.legend()\n",
    "plt.show()"
   ]
  },
  {
   "cell_type": "code",
   "execution_count": 45,
   "id": "4b3c1c8d",
   "metadata": {},
   "outputs": [
    {
     "data": {
      "text/plain": [
       "0    48\n",
       "1    23\n",
       "2     2\n",
       "Name: count, dtype: int64"
      ]
     },
     "execution_count": 45,
     "metadata": {},
     "output_type": "execute_result"
    }
   ],
   "source": [
    "# Clasificación de los clústeres\n",
    "agg_complete = pd.DataFrame(labels)\n",
    "agg_complete.value_counts()"
   ]
  },
  {
   "cell_type": "code",
   "execution_count": 46,
   "id": "26a4a0dd",
   "metadata": {},
   "outputs": [
    {
     "data": {
      "text/plain": [
       "{'Eutimia': 0, 'Depresión': 2, 'Manía': 1, 'Total Correct Matches': 49}"
      ]
     },
     "execution_count": 46,
     "metadata": {},
     "output_type": "execute_result"
    }
   ],
   "source": [
    "algoritmo_clasificacion(data_filtered)"
   ]
  },
  {
   "cell_type": "code",
   "execution_count": 47,
   "id": "4be37901",
   "metadata": {},
   "outputs": [
    {
     "data": {
      "image/png": "[encoded data removed]",
      "text/plain": [
       "<Figure size 640x480 with 1 Axes>"
      ]
     },
     "metadata": {},
     "output_type": "display_data"
    }
   ],
   "source": [
    "clustering = AgglomerativeClustering(n_clusters=3, linkage='average')\n",
    "\n",
    "# Ajustar el modelo a los datos\n",
    "clustering.fit(data_filtered[['Tiempo Durmiendo (s)', 'Aceleracion media', 'Aceleracion media vigorosa']])\n",
    "\n",
    "# Obtener las etiquetas de los clusters asignadas a cada punto\n",
    "labels = clustering.labels_\n",
    "data_filtered['Cluster'] = clustering.labels_\n",
    "\n",
    "for cluster in set(labels):\n",
    "    #data_cluster = data_filtered_ward[data_filtered_ward['Ward'] == cluster]\n",
    "    x_cluster = data_filtered.loc[labels == cluster, 'Tiempo Durmiendo (s)']\n",
    "    y_cluster = data_filtered.loc[labels == cluster, 'Aceleracion media']\n",
    "    plt.scatter(x_cluster, y_cluster, label=f'{cluster}')\n",
    "\n",
    "plt.xlabel('Tiempo Durmiendo (s)')\n",
    "plt.ylabel('Aceleracion media')\n",
    "#plt.xticks(ticks=[15000, 20000, 25000, 30000, 35000])\n",
    "plt.title('Agglomerative Clustering: Average')\n",
    "plt.legend()\n",
    "plt.show()"
   ]
  },
  {
   "cell_type": "code",
   "execution_count": 48,
   "id": "9115cc18",
   "metadata": {},
   "outputs": [
    {
     "data": {
      "text/plain": [
       "0    69\n",
       "1     2\n",
       "2     2\n",
       "Name: count, dtype: int64"
      ]
     },
     "execution_count": 48,
     "metadata": {},
     "output_type": "execute_result"
    }
   ],
   "source": [
    "# Clasificación de los clústeres\n",
    "agg_average = pd.DataFrame(labels)\n",
    "agg_average.value_counts()"
   ]
  },
  {
   "cell_type": "code",
   "execution_count": 49,
   "id": "aae665a5",
   "metadata": {},
   "outputs": [
    {
     "data": {
      "text/plain": [
       "{'Eutimia': 0, 'Depresión': 1, 'Manía': 2, 'Total Correct Matches': 58}"
      ]
     },
     "execution_count": 49,
     "metadata": {},
     "output_type": "execute_result"
    }
   ],
   "source": [
    "algoritmo_clasificacion(data_filtered)"
   ]
  },
  {
   "cell_type": "markdown",
   "id": "eac76a8a",
   "metadata": {},
   "source": [
    "## BDSCAN"
   ]
  },
  {
   "cell_type": "code",
   "execution_count": 50,
   "id": "96d21445",
   "metadata": {},
   "outputs": [
    {
     "data": {
      "image/png": "[encoded data removed]",
      "text/plain": [
       "<Figure size 640x480 with 1 Axes>"
      ]
     },
     "metadata": {},
     "output_type": "display_data"
    }
   ],
   "source": [
    "dbscan = DBSCAN(eps=2500, min_samples=6)\n",
    "labels = dbscan.fit_predict(data_filtered[['Tiempo Durmiendo (s)', 'Aceleracion media', 'Aceleracion media vigorosa']])\n",
    "\n",
    "# Añadir las etiquetas al DataFrame original\n",
    "data_filtered['Cluster'] = labels\n",
    "\n",
    "# Crear la leyenda\n",
    "for cluster in set(labels):\n",
    "    x_cluster = data_filtered.loc[labels == cluster, 'Tiempo Durmiendo (s)']\n",
    "    y_cluster = data_filtered.loc[labels == cluster, 'Aceleracion media']\n",
    "    plt.scatter(x_cluster, y_cluster, label=f'{cluster}')\n",
    "\n",
    "# Visualización\n",
    "plt.title('Clustering con DBSCAN')\n",
    "plt.xlabel('Tiempo Durmiendo (s)')\n",
    "plt.ylabel('Aceleracion media')\n",
    "plt.legend([0, 1])\n",
    "plt.show()"
   ]
  },
  {
   "cell_type": "code",
   "execution_count": 51,
   "id": "754a769f",
   "metadata": {},
   "outputs": [
    {
     "data": {
      "text/plain": [
       " 0    70\n",
       "-1     3\n",
       "Name: count, dtype: int64"
      ]
     },
     "execution_count": 51,
     "metadata": {},
     "output_type": "execute_result"
    }
   ],
   "source": [
    "# Clasificación de los clústeres\n",
    "agg_dbscan = pd.DataFrame(labels)\n",
    "agg_dbscan.value_counts()"
   ]
  },
  {
   "cell_type": "code",
   "execution_count": 52,
   "id": "b17f555b",
   "metadata": {},
   "outputs": [
    {
     "data": {
      "text/plain": [
       "{'Eutimia': 0, 'Depresión': 1, 'Manía': 2, 'Total Correct Matches': 59}"
      ]
     },
     "execution_count": 52,
     "metadata": {},
     "output_type": "execute_result"
    }
   ],
   "source": [
    "algoritmo_clasificacion(data_filtered)"
   ]
  },
  {
   "cell_type": "markdown",
   "id": "f173faa3",
   "metadata": {},
   "source": [
    "## GMM"
   ]
  },
  {
   "cell_type": "code",
   "execution_count": 53,
   "id": "387bc01d",
   "metadata": {},
   "outputs": [
    {
     "data": {
      "image/png": "[encoded data removed]",
      "text/plain": [
       "<Figure size 640x480 with 1 Axes>"
      ]
     },
     "metadata": {},
     "output_type": "display_data"
    }
   ],
   "source": [
    "# Definir el número de clústeres\n",
    "num_clusters = 3\n",
    "\n",
    "# Inicializar y ajustar el modelo GMM\n",
    "gmm = GaussianMixture(n_components=num_clusters, random_state=seed)\n",
    "labels = gmm.fit_predict(data_filtered[['Tiempo Durmiendo (s)', 'Aceleracion media', 'Aceleracion media vigorosa']])\n",
    "\n",
    "# Añadir las etiquetas al DataFrame original\n",
    "data_filtered['Cluster'] = labels\n",
    "\n",
    "# Crear la leyenda\n",
    "for cluster in set(labels):\n",
    "    x_cluster = data_filtered.loc[labels == cluster, 'Tiempo Durmiendo (s)']\n",
    "    y_cluster = data_filtered.loc[labels == cluster, 'Aceleracion media']\n",
    "    plt.scatter(x_cluster, y_cluster, label=f'{cluster}')\n",
    "\n",
    "# Visualización\n",
    "plt.title('Clustering con Gaussian Mixture Models')\n",
    "plt.xlabel('Tiempo Durmiendo (s)')\n",
    "plt.ylabel('Aceleracion media')\n",
    "plt.legend()\n",
    "plt.show()"
   ]
  },
  {
   "cell_type": "code",
   "execution_count": 54,
   "id": "86e0ef1e",
   "metadata": {},
   "outputs": [
    {
     "data": {
      "text/plain": [
       "0    34\n",
       "1    28\n",
       "2    11\n",
       "Name: count, dtype: int64"
      ]
     },
     "execution_count": 54,
     "metadata": {},
     "output_type": "execute_result"
    }
   ],
   "source": [
    "# Clasificación de los clústeres\n",
    "agg_gmm = pd.DataFrame(labels)\n",
    "agg_gmm.value_counts()"
   ]
  },
  {
   "cell_type": "code",
   "execution_count": 55,
   "id": "03c47d56",
   "metadata": {},
   "outputs": [
    {
     "data": {
      "text/plain": [
       "{'Eutimia': 0, 'Depresión': 1, 'Manía': 2, 'Total Correct Matches': 31}"
      ]
     },
     "execution_count": 55,
     "metadata": {},
     "output_type": "execute_result"
    }
   ],
   "source": [
    "algoritmo_clasificacion(data_filtered)"
   ]
  }
 ],
 "metadata": {
  "kernelspec": {
   "display_name": "Python 3 (ipykernel)",
   "language": "python",
   "name": "python3"
  },
  "language_info": {
   "codemirror_mode": {
    "name": "ipython",
    "version": 3
   },
   "file_extension": ".py",
   "mimetype": "text/x-python",
   "name": "python",
   "nbconvert_exporter": "python",
   "pygments_lexer": "ipython3",
   "version": "3.9.18"
  }
 },
 "nbformat": 4,
 "nbformat_minor": 5
}
